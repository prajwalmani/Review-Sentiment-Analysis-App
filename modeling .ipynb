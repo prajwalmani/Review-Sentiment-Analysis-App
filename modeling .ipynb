{
 "cells": [
  {
   "cell_type": "code",
   "execution_count": 1,
   "id": "ordinary-officer",
   "metadata": {},
   "outputs": [],
   "source": [
    "import pandas as pd \n",
    "import numpy as np\n",
    "import re\n",
    "import matplotlib.pyplot as plt\n",
    "from textblob import Word\n",
    "from nltk.corpus import stopwords\n",
    "from wordcloud import WordCloud\n",
    "from sklearn.model_selection import train_test_split\n",
    "from sklearn.feature_extraction.text import CountVectorizer, TfidfTransformer\n",
    "from sklearn.preprocessing import MaxAbsScaler\n",
    "from sklearn.ensemble import RandomForestClassifier\n",
    "from sklearn.linear_model import LogisticRegression\n",
    "from sklearn.metrics import confusion_matrix,accuracy_score,roc_auc_score\n",
    "from sklearn import svm\n",
    "from sklearn.naive_bayes import MultinomialNB\n",
    "import pickle \n",
    "from sklearn.pipeline import Pipeline"
   ]
  },
  {
   "cell_type": "code",
   "execution_count": 2,
   "id": "patent-success",
   "metadata": {},
   "outputs": [],
   "source": [
    "df=pd.read_csv(r'balanced_review.csv')"
   ]
  },
  {
   "cell_type": "code",
   "execution_count": 3,
   "id": "seeing-scroll",
   "metadata": {
    "scrolled": true
   },
   "outputs": [
    {
     "data": {
      "text/html": [
       "<div>\n",
       "<style scoped>\n",
       "    .dataframe tbody tr th:only-of-type {\n",
       "        vertical-align: middle;\n",
       "    }\n",
       "\n",
       "    .dataframe tbody tr th {\n",
       "        vertical-align: top;\n",
       "    }\n",
       "\n",
       "    .dataframe thead th {\n",
       "        text-align: right;\n",
       "    }\n",
       "</style>\n",
       "<table border=\"1\" class=\"dataframe\">\n",
       "  <thead>\n",
       "    <tr style=\"text-align: right;\">\n",
       "      <th></th>\n",
       "      <th>overall</th>\n",
       "      <th>reviewText</th>\n",
       "      <th>summary</th>\n",
       "    </tr>\n",
       "  </thead>\n",
       "  <tbody>\n",
       "    <tr>\n",
       "      <th>0</th>\n",
       "      <td>5</td>\n",
       "      <td>AS ALWAYS CARHARTT MEANS QUALITY!</td>\n",
       "      <td>Five Stars</td>\n",
       "    </tr>\n",
       "    <tr>\n",
       "      <th>1</th>\n",
       "      <td>5</td>\n",
       "      <td>After ordering pair upon pair of tall black bo...</td>\n",
       "      <td>Great affordable boot</td>\n",
       "    </tr>\n",
       "    <tr>\n",
       "      <th>2</th>\n",
       "      <td>5</td>\n",
       "      <td>Product is sturdy, looks good and displays the...</td>\n",
       "      <td>Looks good</td>\n",
       "    </tr>\n",
       "    <tr>\n",
       "      <th>3</th>\n",
       "      <td>5</td>\n",
       "      <td>Great coat, very warm and well made</td>\n",
       "      <td>Five Stars</td>\n",
       "    </tr>\n",
       "    <tr>\n",
       "      <th>4</th>\n",
       "      <td>5</td>\n",
       "      <td>Perfect for my Disneybound!</td>\n",
       "      <td>Five Stars</td>\n",
       "    </tr>\n",
       "    <tr>\n",
       "      <th>...</th>\n",
       "      <td>...</td>\n",
       "      <td>...</td>\n",
       "      <td>...</td>\n",
       "    </tr>\n",
       "    <tr>\n",
       "      <th>791995</th>\n",
       "      <td>1</td>\n",
       "      <td>Too tight. Caused pain and the compression of ...</td>\n",
       "      <td>Too tight. Caused pain and the compression of ...</td>\n",
       "    </tr>\n",
       "    <tr>\n",
       "      <th>791996</th>\n",
       "      <td>1</td>\n",
       "      <td>its like plastic doll jewelry</td>\n",
       "      <td>Disappointed</td>\n",
       "    </tr>\n",
       "    <tr>\n",
       "      <th>791997</th>\n",
       "      <td>1</td>\n",
       "      <td>The fit was too small.</td>\n",
       "      <td>One Star</td>\n",
       "    </tr>\n",
       "    <tr>\n",
       "      <th>791998</th>\n",
       "      <td>1</td>\n",
       "      <td>Measurements were way off!</td>\n",
       "      <td>One Star</td>\n",
       "    </tr>\n",
       "    <tr>\n",
       "      <th>791999</th>\n",
       "      <td>1</td>\n",
       "      <td>These were larger than shown I could not imagi...</td>\n",
       "      <td>Do not order.</td>\n",
       "    </tr>\n",
       "  </tbody>\n",
       "</table>\n",
       "<p>792000 rows × 3 columns</p>\n",
       "</div>"
      ],
      "text/plain": [
       "        overall                                         reviewText  \\\n",
       "0             5                  AS ALWAYS CARHARTT MEANS QUALITY!   \n",
       "1             5  After ordering pair upon pair of tall black bo...   \n",
       "2             5  Product is sturdy, looks good and displays the...   \n",
       "3             5                Great coat, very warm and well made   \n",
       "4             5                        Perfect for my Disneybound!   \n",
       "...         ...                                                ...   \n",
       "791995        1  Too tight. Caused pain and the compression of ...   \n",
       "791996        1                      its like plastic doll jewelry   \n",
       "791997        1                             The fit was too small.   \n",
       "791998        1                         Measurements were way off!   \n",
       "791999        1  These were larger than shown I could not imagi...   \n",
       "\n",
       "                                                  summary  \n",
       "0                                              Five Stars  \n",
       "1                                   Great affordable boot  \n",
       "2                                              Looks good  \n",
       "3                                              Five Stars  \n",
       "4                                              Five Stars  \n",
       "...                                                   ...  \n",
       "791995  Too tight. Caused pain and the compression of ...  \n",
       "791996                                       Disappointed  \n",
       "791997                                           One Star  \n",
       "791998                                           One Star  \n",
       "791999                                      Do not order.  \n",
       "\n",
       "[792000 rows x 3 columns]"
      ]
     },
     "execution_count": 3,
     "metadata": {},
     "output_type": "execute_result"
    }
   ],
   "source": [
    "df"
   ]
  },
  {
   "cell_type": "code",
   "execution_count": 4,
   "id": "victorian-ivory",
   "metadata": {},
   "outputs": [
    {
     "name": "stdout",
     "output_type": "stream",
     "text": [
      "<class 'pandas.core.frame.DataFrame'>\n",
      "RangeIndex: 792000 entries, 0 to 791999\n",
      "Data columns (total 3 columns):\n",
      " #   Column      Non-Null Count   Dtype \n",
      "---  ------      --------------   ----- \n",
      " 0   overall     792000 non-null  int64 \n",
      " 1   reviewText  791425 non-null  object\n",
      " 2   summary     791749 non-null  object\n",
      "dtypes: int64(1), object(2)\n",
      "memory usage: 18.1+ MB\n"
     ]
    }
   ],
   "source": [
    "df.info()"
   ]
  },
  {
   "cell_type": "code",
   "execution_count": 5,
   "id": "sensitive-puzzle",
   "metadata": {},
   "outputs": [
    {
     "data": {
      "text/html": [
       "<div>\n",
       "<style scoped>\n",
       "    .dataframe tbody tr th:only-of-type {\n",
       "        vertical-align: middle;\n",
       "    }\n",
       "\n",
       "    .dataframe tbody tr th {\n",
       "        vertical-align: top;\n",
       "    }\n",
       "\n",
       "    .dataframe thead th {\n",
       "        text-align: right;\n",
       "    }\n",
       "</style>\n",
       "<table border=\"1\" class=\"dataframe\">\n",
       "  <thead>\n",
       "    <tr style=\"text-align: right;\">\n",
       "      <th></th>\n",
       "      <th>overall</th>\n",
       "      <th>reviewText</th>\n",
       "      <th>summary</th>\n",
       "    </tr>\n",
       "  </thead>\n",
       "  <tbody>\n",
       "    <tr>\n",
       "      <th>count</th>\n",
       "      <td>792000.000000</td>\n",
       "      <td>791425</td>\n",
       "      <td>791749</td>\n",
       "    </tr>\n",
       "    <tr>\n",
       "      <th>unique</th>\n",
       "      <td>NaN</td>\n",
       "      <td>738681</td>\n",
       "      <td>419470</td>\n",
       "    </tr>\n",
       "    <tr>\n",
       "      <th>top</th>\n",
       "      <td>NaN</td>\n",
       "      <td>Good</td>\n",
       "      <td>Three Stars</td>\n",
       "    </tr>\n",
       "    <tr>\n",
       "      <th>freq</th>\n",
       "      <td>NaN</td>\n",
       "      <td>1034</td>\n",
       "      <td>71006</td>\n",
       "    </tr>\n",
       "    <tr>\n",
       "      <th>mean</th>\n",
       "      <td>3.000000</td>\n",
       "      <td>NaN</td>\n",
       "      <td>NaN</td>\n",
       "    </tr>\n",
       "    <tr>\n",
       "      <th>std</th>\n",
       "      <td>1.290995</td>\n",
       "      <td>NaN</td>\n",
       "      <td>NaN</td>\n",
       "    </tr>\n",
       "    <tr>\n",
       "      <th>min</th>\n",
       "      <td>1.000000</td>\n",
       "      <td>NaN</td>\n",
       "      <td>NaN</td>\n",
       "    </tr>\n",
       "    <tr>\n",
       "      <th>25%</th>\n",
       "      <td>2.000000</td>\n",
       "      <td>NaN</td>\n",
       "      <td>NaN</td>\n",
       "    </tr>\n",
       "    <tr>\n",
       "      <th>50%</th>\n",
       "      <td>3.000000</td>\n",
       "      <td>NaN</td>\n",
       "      <td>NaN</td>\n",
       "    </tr>\n",
       "    <tr>\n",
       "      <th>75%</th>\n",
       "      <td>4.000000</td>\n",
       "      <td>NaN</td>\n",
       "      <td>NaN</td>\n",
       "    </tr>\n",
       "    <tr>\n",
       "      <th>max</th>\n",
       "      <td>5.000000</td>\n",
       "      <td>NaN</td>\n",
       "      <td>NaN</td>\n",
       "    </tr>\n",
       "  </tbody>\n",
       "</table>\n",
       "</div>"
      ],
      "text/plain": [
       "              overall reviewText      summary\n",
       "count   792000.000000     791425       791749\n",
       "unique            NaN     738681       419470\n",
       "top               NaN       Good  Three Stars\n",
       "freq              NaN       1034        71006\n",
       "mean         3.000000        NaN          NaN\n",
       "std          1.290995        NaN          NaN\n",
       "min          1.000000        NaN          NaN\n",
       "25%          2.000000        NaN          NaN\n",
       "50%          3.000000        NaN          NaN\n",
       "75%          4.000000        NaN          NaN\n",
       "max          5.000000        NaN          NaN"
      ]
     },
     "execution_count": 5,
     "metadata": {},
     "output_type": "execute_result"
    }
   ],
   "source": [
    "df.describe(include='all')"
   ]
  },
  {
   "cell_type": "code",
   "execution_count": 6,
   "id": "british-fantasy",
   "metadata": {},
   "outputs": [],
   "source": [
    "df=df.drop('summary',1)"
   ]
  },
  {
   "cell_type": "code",
   "execution_count": 7,
   "id": "hungry-slovak",
   "metadata": {},
   "outputs": [],
   "source": [
    "df.columns=['overall','review']"
   ]
  },
  {
   "cell_type": "code",
   "execution_count": 8,
   "id": "gross-blast",
   "metadata": {},
   "outputs": [
    {
     "data": {
      "text/plain": [
       "overall      0\n",
       "review     575\n",
       "dtype: int64"
      ]
     },
     "execution_count": 8,
     "metadata": {},
     "output_type": "execute_result"
    }
   ],
   "source": [
    "df.isna().sum()"
   ]
  },
  {
   "cell_type": "code",
   "execution_count": 9,
   "id": "aboriginal-seventh",
   "metadata": {},
   "outputs": [],
   "source": [
    "df.dropna(subset=['review'],inplace=True)"
   ]
  },
  {
   "cell_type": "code",
   "execution_count": 10,
   "id": "geological-behalf",
   "metadata": {},
   "outputs": [
    {
     "data": {
      "text/plain": [
       "overall    0\n",
       "review     0\n",
       "dtype: int64"
      ]
     },
     "execution_count": 10,
     "metadata": {},
     "output_type": "execute_result"
    }
   ],
   "source": [
    "df.isna().sum()"
   ]
  },
  {
   "cell_type": "code",
   "execution_count": 11,
   "id": "loving-motel",
   "metadata": {},
   "outputs": [
    {
     "data": {
      "text/html": [
       "<div>\n",
       "<style scoped>\n",
       "    .dataframe tbody tr th:only-of-type {\n",
       "        vertical-align: middle;\n",
       "    }\n",
       "\n",
       "    .dataframe tbody tr th {\n",
       "        vertical-align: top;\n",
       "    }\n",
       "\n",
       "    .dataframe thead th {\n",
       "        text-align: right;\n",
       "    }\n",
       "</style>\n",
       "<table border=\"1\" class=\"dataframe\">\n",
       "  <thead>\n",
       "    <tr style=\"text-align: right;\">\n",
       "      <th></th>\n",
       "      <th>overall</th>\n",
       "      <th>review</th>\n",
       "    </tr>\n",
       "  </thead>\n",
       "  <tbody>\n",
       "    <tr>\n",
       "      <th>0</th>\n",
       "      <td>5</td>\n",
       "      <td>AS ALWAYS CARHARTT MEANS QUALITY!</td>\n",
       "    </tr>\n",
       "    <tr>\n",
       "      <th>1</th>\n",
       "      <td>5</td>\n",
       "      <td>After ordering pair upon pair of tall black bo...</td>\n",
       "    </tr>\n",
       "    <tr>\n",
       "      <th>2</th>\n",
       "      <td>5</td>\n",
       "      <td>Product is sturdy, looks good and displays the...</td>\n",
       "    </tr>\n",
       "    <tr>\n",
       "      <th>3</th>\n",
       "      <td>5</td>\n",
       "      <td>Great coat, very warm and well made</td>\n",
       "    </tr>\n",
       "    <tr>\n",
       "      <th>4</th>\n",
       "      <td>5</td>\n",
       "      <td>Perfect for my Disneybound!</td>\n",
       "    </tr>\n",
       "    <tr>\n",
       "      <th>...</th>\n",
       "      <td>...</td>\n",
       "      <td>...</td>\n",
       "    </tr>\n",
       "    <tr>\n",
       "      <th>791995</th>\n",
       "      <td>1</td>\n",
       "      <td>Too tight. Caused pain and the compression of ...</td>\n",
       "    </tr>\n",
       "    <tr>\n",
       "      <th>791996</th>\n",
       "      <td>1</td>\n",
       "      <td>its like plastic doll jewelry</td>\n",
       "    </tr>\n",
       "    <tr>\n",
       "      <th>791997</th>\n",
       "      <td>1</td>\n",
       "      <td>The fit was too small.</td>\n",
       "    </tr>\n",
       "    <tr>\n",
       "      <th>791998</th>\n",
       "      <td>1</td>\n",
       "      <td>Measurements were way off!</td>\n",
       "    </tr>\n",
       "    <tr>\n",
       "      <th>791999</th>\n",
       "      <td>1</td>\n",
       "      <td>These were larger than shown I could not imagi...</td>\n",
       "    </tr>\n",
       "  </tbody>\n",
       "</table>\n",
       "<p>791425 rows × 2 columns</p>\n",
       "</div>"
      ],
      "text/plain": [
       "        overall                                             review\n",
       "0             5                  AS ALWAYS CARHARTT MEANS QUALITY!\n",
       "1             5  After ordering pair upon pair of tall black bo...\n",
       "2             5  Product is sturdy, looks good and displays the...\n",
       "3             5                Great coat, very warm and well made\n",
       "4             5                        Perfect for my Disneybound!\n",
       "...         ...                                                ...\n",
       "791995        1  Too tight. Caused pain and the compression of ...\n",
       "791996        1                      its like plastic doll jewelry\n",
       "791997        1                             The fit was too small.\n",
       "791998        1                         Measurements were way off!\n",
       "791999        1  These were larger than shown I could not imagi...\n",
       "\n",
       "[791425 rows x 2 columns]"
      ]
     },
     "execution_count": 11,
     "metadata": {},
     "output_type": "execute_result"
    }
   ],
   "source": [
    "df"
   ]
  },
  {
   "cell_type": "code",
   "execution_count": 12,
   "id": "alive-modern",
   "metadata": {},
   "outputs": [
    {
     "data": {
      "text/plain": [
       "3    263883\n",
       "2    131978\n",
       "1    131901\n",
       "4    131869\n",
       "5    131794\n",
       "Name: overall, dtype: int64"
      ]
     },
     "execution_count": 12,
     "metadata": {},
     "output_type": "execute_result"
    }
   ],
   "source": [
    "df['overall'].value_counts()"
   ]
  },
  {
   "cell_type": "code",
   "execution_count": 13,
   "id": "imposed-invasion",
   "metadata": {},
   "outputs": [
    {
     "data": {
      "text/plain": [
       "Text(0, 0.5, 'Label')"
      ]
     },
     "execution_count": 13,
     "metadata": {},
     "output_type": "execute_result"
    },
    {
     "data": {
      "image/png": "[encoded data removed]",
      "text/plain": [
       "<Figure size 432x288 with 1 Axes>"
      ]
     },
     "metadata": {
      "needs_background": "light"
     },
     "output_type": "display_data"
    }
   ],
   "source": [
    "ax = df['overall'].value_counts(sort=False).plot(kind='barh')\n",
    "ax.set_xlabel('Number of Samples in training Set')\n",
    "ax.set_ylabel('Label')"
   ]
  },
  {
   "cell_type": "code",
   "execution_count": 14,
   "id": "classified-bulletin",
   "metadata": {},
   "outputs": [
    {
     "data": {
      "text/html": [
       "<div>\n",
       "<style scoped>\n",
       "    .dataframe tbody tr th:only-of-type {\n",
       "        vertical-align: middle;\n",
       "    }\n",
       "\n",
       "    .dataframe tbody tr th {\n",
       "        vertical-align: top;\n",
       "    }\n",
       "\n",
       "    .dataframe thead th {\n",
       "        text-align: right;\n",
       "    }\n",
       "</style>\n",
       "<table border=\"1\" class=\"dataframe\">\n",
       "  <thead>\n",
       "    <tr style=\"text-align: right;\">\n",
       "      <th></th>\n",
       "      <th>overall</th>\n",
       "      <th>review</th>\n",
       "      <th>rating</th>\n",
       "    </tr>\n",
       "  </thead>\n",
       "  <tbody>\n",
       "    <tr>\n",
       "      <th>0</th>\n",
       "      <td>5</td>\n",
       "      <td>AS ALWAYS CARHARTT MEANS QUALITY!</td>\n",
       "      <td>NaN</td>\n",
       "    </tr>\n",
       "    <tr>\n",
       "      <th>1</th>\n",
       "      <td>5</td>\n",
       "      <td>After ordering pair upon pair of tall black bo...</td>\n",
       "      <td>NaN</td>\n",
       "    </tr>\n",
       "    <tr>\n",
       "      <th>2</th>\n",
       "      <td>5</td>\n",
       "      <td>Product is sturdy, looks good and displays the...</td>\n",
       "      <td>NaN</td>\n",
       "    </tr>\n",
       "    <tr>\n",
       "      <th>3</th>\n",
       "      <td>5</td>\n",
       "      <td>Great coat, very warm and well made</td>\n",
       "      <td>NaN</td>\n",
       "    </tr>\n",
       "    <tr>\n",
       "      <th>4</th>\n",
       "      <td>5</td>\n",
       "      <td>Perfect for my Disneybound!</td>\n",
       "      <td>NaN</td>\n",
       "    </tr>\n",
       "    <tr>\n",
       "      <th>...</th>\n",
       "      <td>...</td>\n",
       "      <td>...</td>\n",
       "      <td>...</td>\n",
       "    </tr>\n",
       "    <tr>\n",
       "      <th>791995</th>\n",
       "      <td>1</td>\n",
       "      <td>Too tight. Caused pain and the compression of ...</td>\n",
       "      <td>NaN</td>\n",
       "    </tr>\n",
       "    <tr>\n",
       "      <th>791996</th>\n",
       "      <td>1</td>\n",
       "      <td>its like plastic doll jewelry</td>\n",
       "      <td>NaN</td>\n",
       "    </tr>\n",
       "    <tr>\n",
       "      <th>791997</th>\n",
       "      <td>1</td>\n",
       "      <td>The fit was too small.</td>\n",
       "      <td>NaN</td>\n",
       "    </tr>\n",
       "    <tr>\n",
       "      <th>791998</th>\n",
       "      <td>1</td>\n",
       "      <td>Measurements were way off!</td>\n",
       "      <td>NaN</td>\n",
       "    </tr>\n",
       "    <tr>\n",
       "      <th>791999</th>\n",
       "      <td>1</td>\n",
       "      <td>These were larger than shown I could not imagi...</td>\n",
       "      <td>NaN</td>\n",
       "    </tr>\n",
       "  </tbody>\n",
       "</table>\n",
       "<p>791425 rows × 3 columns</p>\n",
       "</div>"
      ],
      "text/plain": [
       "        overall                                             review  rating\n",
       "0             5                  AS ALWAYS CARHARTT MEANS QUALITY!     NaN\n",
       "1             5  After ordering pair upon pair of tall black bo...     NaN\n",
       "2             5  Product is sturdy, looks good and displays the...     NaN\n",
       "3             5                Great coat, very warm and well made     NaN\n",
       "4             5                        Perfect for my Disneybound!     NaN\n",
       "...         ...                                                ...     ...\n",
       "791995        1  Too tight. Caused pain and the compression of ...     NaN\n",
       "791996        1                      its like plastic doll jewelry     NaN\n",
       "791997        1                             The fit was too small.     NaN\n",
       "791998        1                         Measurements were way off!     NaN\n",
       "791999        1  These were larger than shown I could not imagi...     NaN\n",
       "\n",
       "[791425 rows x 3 columns]"
      ]
     },
     "execution_count": 14,
     "metadata": {},
     "output_type": "execute_result"
    }
   ],
   "source": [
    "df['rating']=np.nan\n",
    "df"
   ]
  },
  {
   "cell_type": "code",
   "execution_count": 15,
   "id": "widespread-beginning",
   "metadata": {},
   "outputs": [
    {
     "data": {
      "text/html": [
       "<div>\n",
       "<style scoped>\n",
       "    .dataframe tbody tr th:only-of-type {\n",
       "        vertical-align: middle;\n",
       "    }\n",
       "\n",
       "    .dataframe tbody tr th {\n",
       "        vertical-align: top;\n",
       "    }\n",
       "\n",
       "    .dataframe thead th {\n",
       "        text-align: right;\n",
       "    }\n",
       "</style>\n",
       "<table border=\"1\" class=\"dataframe\">\n",
       "  <thead>\n",
       "    <tr style=\"text-align: right;\">\n",
       "      <th></th>\n",
       "      <th>overall</th>\n",
       "      <th>review</th>\n",
       "      <th>rating</th>\n",
       "    </tr>\n",
       "  </thead>\n",
       "  <tbody>\n",
       "    <tr>\n",
       "      <th>0</th>\n",
       "      <td>5</td>\n",
       "      <td>AS ALWAYS CARHARTT MEANS QUALITY!</td>\n",
       "      <td>1</td>\n",
       "    </tr>\n",
       "    <tr>\n",
       "      <th>1</th>\n",
       "      <td>5</td>\n",
       "      <td>After ordering pair upon pair of tall black bo...</td>\n",
       "      <td>1</td>\n",
       "    </tr>\n",
       "    <tr>\n",
       "      <th>2</th>\n",
       "      <td>5</td>\n",
       "      <td>Product is sturdy, looks good and displays the...</td>\n",
       "      <td>1</td>\n",
       "    </tr>\n",
       "    <tr>\n",
       "      <th>3</th>\n",
       "      <td>5</td>\n",
       "      <td>Great coat, very warm and well made</td>\n",
       "      <td>1</td>\n",
       "    </tr>\n",
       "    <tr>\n",
       "      <th>4</th>\n",
       "      <td>5</td>\n",
       "      <td>Perfect for my Disneybound!</td>\n",
       "      <td>1</td>\n",
       "    </tr>\n",
       "    <tr>\n",
       "      <th>...</th>\n",
       "      <td>...</td>\n",
       "      <td>...</td>\n",
       "      <td>...</td>\n",
       "    </tr>\n",
       "    <tr>\n",
       "      <th>791995</th>\n",
       "      <td>1</td>\n",
       "      <td>Too tight. Caused pain and the compression of ...</td>\n",
       "      <td>0</td>\n",
       "    </tr>\n",
       "    <tr>\n",
       "      <th>791996</th>\n",
       "      <td>1</td>\n",
       "      <td>its like plastic doll jewelry</td>\n",
       "      <td>0</td>\n",
       "    </tr>\n",
       "    <tr>\n",
       "      <th>791997</th>\n",
       "      <td>1</td>\n",
       "      <td>The fit was too small.</td>\n",
       "      <td>0</td>\n",
       "    </tr>\n",
       "    <tr>\n",
       "      <th>791998</th>\n",
       "      <td>1</td>\n",
       "      <td>Measurements were way off!</td>\n",
       "      <td>0</td>\n",
       "    </tr>\n",
       "    <tr>\n",
       "      <th>791999</th>\n",
       "      <td>1</td>\n",
       "      <td>These were larger than shown I could not imagi...</td>\n",
       "      <td>0</td>\n",
       "    </tr>\n",
       "  </tbody>\n",
       "</table>\n",
       "<p>791425 rows × 3 columns</p>\n",
       "</div>"
      ],
      "text/plain": [
       "        overall                                             review  rating\n",
       "0             5                  AS ALWAYS CARHARTT MEANS QUALITY!       1\n",
       "1             5  After ordering pair upon pair of tall black bo...       1\n",
       "2             5  Product is sturdy, looks good and displays the...       1\n",
       "3             5                Great coat, very warm and well made       1\n",
       "4             5                        Perfect for my Disneybound!       1\n",
       "...         ...                                                ...     ...\n",
       "791995        1  Too tight. Caused pain and the compression of ...       0\n",
       "791996        1                      its like plastic doll jewelry       0\n",
       "791997        1                             The fit was too small.       0\n",
       "791998        1                         Measurements were way off!       0\n",
       "791999        1  These were larger than shown I could not imagi...       0\n",
       "\n",
       "[791425 rows x 3 columns]"
      ]
     },
     "execution_count": 15,
     "metadata": {},
     "output_type": "execute_result"
    }
   ],
   "source": [
    "# 1 is positive and 0 is negative  \n",
    "df['rating']=np.where(df['overall']>=3,1,0)\n",
    "df"
   ]
  },
  {
   "cell_type": "code",
   "execution_count": 16,
   "id": "built-measure",
   "metadata": {},
   "outputs": [
    {
     "data": {
      "text/html": [
       "<div>\n",
       "<style scoped>\n",
       "    .dataframe tbody tr th:only-of-type {\n",
       "        vertical-align: middle;\n",
       "    }\n",
       "\n",
       "    .dataframe tbody tr th {\n",
       "        vertical-align: top;\n",
       "    }\n",
       "\n",
       "    .dataframe thead th {\n",
       "        text-align: right;\n",
       "    }\n",
       "</style>\n",
       "<table border=\"1\" class=\"dataframe\">\n",
       "  <thead>\n",
       "    <tr style=\"text-align: right;\">\n",
       "      <th></th>\n",
       "      <th>review</th>\n",
       "      <th>rating</th>\n",
       "    </tr>\n",
       "  </thead>\n",
       "  <tbody>\n",
       "    <tr>\n",
       "      <th>0</th>\n",
       "      <td>AS ALWAYS CARHARTT MEANS QUALITY!</td>\n",
       "      <td>1</td>\n",
       "    </tr>\n",
       "    <tr>\n",
       "      <th>1</th>\n",
       "      <td>After ordering pair upon pair of tall black bo...</td>\n",
       "      <td>1</td>\n",
       "    </tr>\n",
       "    <tr>\n",
       "      <th>2</th>\n",
       "      <td>Product is sturdy, looks good and displays the...</td>\n",
       "      <td>1</td>\n",
       "    </tr>\n",
       "    <tr>\n",
       "      <th>3</th>\n",
       "      <td>Great coat, very warm and well made</td>\n",
       "      <td>1</td>\n",
       "    </tr>\n",
       "    <tr>\n",
       "      <th>4</th>\n",
       "      <td>Perfect for my Disneybound!</td>\n",
       "      <td>1</td>\n",
       "    </tr>\n",
       "    <tr>\n",
       "      <th>...</th>\n",
       "      <td>...</td>\n",
       "      <td>...</td>\n",
       "    </tr>\n",
       "    <tr>\n",
       "      <th>791995</th>\n",
       "      <td>Too tight. Caused pain and the compression of ...</td>\n",
       "      <td>0</td>\n",
       "    </tr>\n",
       "    <tr>\n",
       "      <th>791996</th>\n",
       "      <td>its like plastic doll jewelry</td>\n",
       "      <td>0</td>\n",
       "    </tr>\n",
       "    <tr>\n",
       "      <th>791997</th>\n",
       "      <td>The fit was too small.</td>\n",
       "      <td>0</td>\n",
       "    </tr>\n",
       "    <tr>\n",
       "      <th>791998</th>\n",
       "      <td>Measurements were way off!</td>\n",
       "      <td>0</td>\n",
       "    </tr>\n",
       "    <tr>\n",
       "      <th>791999</th>\n",
       "      <td>These were larger than shown I could not imagi...</td>\n",
       "      <td>0</td>\n",
       "    </tr>\n",
       "  </tbody>\n",
       "</table>\n",
       "<p>791425 rows × 2 columns</p>\n",
       "</div>"
      ],
      "text/plain": [
       "                                                   review  rating\n",
       "0                       AS ALWAYS CARHARTT MEANS QUALITY!       1\n",
       "1       After ordering pair upon pair of tall black bo...       1\n",
       "2       Product is sturdy, looks good and displays the...       1\n",
       "3                     Great coat, very warm and well made       1\n",
       "4                             Perfect for my Disneybound!       1\n",
       "...                                                   ...     ...\n",
       "791995  Too tight. Caused pain and the compression of ...       0\n",
       "791996                      its like plastic doll jewelry       0\n",
       "791997                             The fit was too small.       0\n",
       "791998                         Measurements were way off!       0\n",
       "791999  These were larger than shown I could not imagi...       0\n",
       "\n",
       "[791425 rows x 2 columns]"
      ]
     },
     "execution_count": 16,
     "metadata": {},
     "output_type": "execute_result"
    }
   ],
   "source": [
    "df=df.drop('overall',1)\n",
    "df"
   ]
  },
  {
   "cell_type": "code",
   "execution_count": 17,
   "id": "external-course",
   "metadata": {},
   "outputs": [
    {
     "data": {
      "text/plain": [
       "1    527546\n",
       "0    263879\n",
       "Name: rating, dtype: int64"
      ]
     },
     "execution_count": 17,
     "metadata": {},
     "output_type": "execute_result"
    }
   ],
   "source": [
    "df['rating'].value_counts()"
   ]
  },
  {
   "cell_type": "code",
   "execution_count": 18,
   "id": "endangered-letter",
   "metadata": {},
   "outputs": [
    {
     "data": {
      "text/plain": [
       "Text(0.5, 0, 'Label')"
      ]
     },
     "execution_count": 18,
     "metadata": {},
     "output_type": "execute_result"
    },
    {
     "data": {
      "image/png": "[encoded data removed]",
      "text/plain": [
       "<Figure size 432x288 with 1 Axes>"
      ]
     },
     "metadata": {
      "needs_background": "light"
     },
     "output_type": "display_data"
    }
   ],
   "source": [
    "ax = df['rating'].value_counts(sort=False).plot(kind='bar')\n",
    "ax.set_ylabel('Number of Samples in training Set')\n",
    "ax.set_xlabel('Label')"
   ]
  },
  {
   "cell_type": "code",
   "execution_count": 19,
   "id": "orange-upset",
   "metadata": {},
   "outputs": [
    {
     "data": {
      "text/html": [
       "<div>\n",
       "<style scoped>\n",
       "    .dataframe tbody tr th:only-of-type {\n",
       "        vertical-align: middle;\n",
       "    }\n",
       "\n",
       "    .dataframe tbody tr th {\n",
       "        vertical-align: top;\n",
       "    }\n",
       "\n",
       "    .dataframe thead th {\n",
       "        text-align: right;\n",
       "    }\n",
       "</style>\n",
       "<table border=\"1\" class=\"dataframe\">\n",
       "  <thead>\n",
       "    <tr style=\"text-align: right;\">\n",
       "      <th></th>\n",
       "      <th>review</th>\n",
       "      <th>rating</th>\n",
       "    </tr>\n",
       "  </thead>\n",
       "  <tbody>\n",
       "    <tr>\n",
       "      <th>0</th>\n",
       "      <td>AS ALWAYS CARHARTT MEANS QUALITY!</td>\n",
       "      <td>1</td>\n",
       "    </tr>\n",
       "    <tr>\n",
       "      <th>1</th>\n",
       "      <td>After ordering pair upon pair of tall black bo...</td>\n",
       "      <td>1</td>\n",
       "    </tr>\n",
       "    <tr>\n",
       "      <th>2</th>\n",
       "      <td>Product is sturdy, looks good and displays the...</td>\n",
       "      <td>1</td>\n",
       "    </tr>\n",
       "    <tr>\n",
       "      <th>3</th>\n",
       "      <td>Great coat, very warm and well made</td>\n",
       "      <td>1</td>\n",
       "    </tr>\n",
       "    <tr>\n",
       "      <th>4</th>\n",
       "      <td>Perfect for my Disneybound!</td>\n",
       "      <td>1</td>\n",
       "    </tr>\n",
       "    <tr>\n",
       "      <th>...</th>\n",
       "      <td>...</td>\n",
       "      <td>...</td>\n",
       "    </tr>\n",
       "    <tr>\n",
       "      <th>791995</th>\n",
       "      <td>Too tight. Caused pain and the compression of ...</td>\n",
       "      <td>0</td>\n",
       "    </tr>\n",
       "    <tr>\n",
       "      <th>791996</th>\n",
       "      <td>its like plastic doll jewelry</td>\n",
       "      <td>0</td>\n",
       "    </tr>\n",
       "    <tr>\n",
       "      <th>791997</th>\n",
       "      <td>The fit was too small.</td>\n",
       "      <td>0</td>\n",
       "    </tr>\n",
       "    <tr>\n",
       "      <th>791998</th>\n",
       "      <td>Measurements were way off!</td>\n",
       "      <td>0</td>\n",
       "    </tr>\n",
       "    <tr>\n",
       "      <th>791999</th>\n",
       "      <td>These were larger than shown I could not imagi...</td>\n",
       "      <td>0</td>\n",
       "    </tr>\n",
       "  </tbody>\n",
       "</table>\n",
       "<p>527758 rows × 2 columns</p>\n",
       "</div>"
      ],
      "text/plain": [
       "                                                   review  rating\n",
       "0                       AS ALWAYS CARHARTT MEANS QUALITY!       1\n",
       "1       After ordering pair upon pair of tall black bo...       1\n",
       "2       Product is sturdy, looks good and displays the...       1\n",
       "3                     Great coat, very warm and well made       1\n",
       "4                             Perfect for my Disneybound!       1\n",
       "...                                                   ...     ...\n",
       "791995  Too tight. Caused pain and the compression of ...       0\n",
       "791996                      its like plastic doll jewelry       0\n",
       "791997                             The fit was too small.       0\n",
       "791998                         Measurements were way off!       0\n",
       "791999  These were larger than shown I could not imagi...       0\n",
       "\n",
       "[527758 rows x 2 columns]"
      ]
     },
     "execution_count": 19,
     "metadata": {},
     "output_type": "execute_result"
    }
   ],
   "source": [
    "dfn=df[df['rating']==0]\n",
    "dfp=df[df['rating']==1]\n",
    "df=None\n",
    "dfp=dfp.iloc[:263879,:]\n",
    "df=pd.concat([dfp,dfn])\n",
    "df"
   ]
  },
  {
   "cell_type": "code",
   "execution_count": 20,
   "id": "unique-hearing",
   "metadata": {},
   "outputs": [
    {
     "data": {
      "text/plain": [
       "0    263879\n",
       "1    263879\n",
       "Name: rating, dtype: int64"
      ]
     },
     "execution_count": 20,
     "metadata": {},
     "output_type": "execute_result"
    }
   ],
   "source": [
    "df['rating'].value_counts()"
   ]
  },
  {
   "cell_type": "code",
   "execution_count": 21,
   "id": "stainless-liquid",
   "metadata": {},
   "outputs": [
    {
     "data": {
      "text/plain": [
       "Text(0.5, 0, 'Label')"
      ]
     },
     "execution_count": 21,
     "metadata": {},
     "output_type": "execute_result"
    },
    {
     "data": {
      "image/png": "[encoded data removed]",
      "text/plain": [
       "<Figure size 432x288 with 1 Axes>"
      ]
     },
     "metadata": {
      "needs_background": "light"
     },
     "output_type": "display_data"
    }
   ],
   "source": [
    "ax = df['rating'].value_counts(sort=False).plot(kind='bar')\n",
    "ax.set_ylabel('Number of Samples in training Set')\n",
    "ax.set_xlabel('Label')"
   ]
  },
  {
   "cell_type": "code",
   "execution_count": 22,
   "id": "aggressive-playback",
   "metadata": {},
   "outputs": [],
   "source": [
    "df.to_csv('cleaned_balanced_reviews.csv',index=False)"
   ]
  },
  {
   "cell_type": "code",
   "execution_count": 23,
   "id": "italic-cycling",
   "metadata": {},
   "outputs": [],
   "source": [
    "def clean_reviews(review):\n",
    "    return \" \".join(re.sub(\"(@[A-Za-z0-9]+)|([^0-9A-Za-z \\t])\", \" \",review.lower()).split())"
   ]
  },
  {
   "cell_type": "code",
   "execution_count": 24,
   "id": "christian-programmer",
   "metadata": {},
   "outputs": [],
   "source": [
    "df['review']=df['review'].apply(clean_reviews)"
   ]
  },
  {
   "cell_type": "code",
   "execution_count": 25,
   "id": "extensive-emergency",
   "metadata": {},
   "outputs": [
    {
     "data": {
      "text/html": [
       "<div>\n",
       "<style scoped>\n",
       "    .dataframe tbody tr th:only-of-type {\n",
       "        vertical-align: middle;\n",
       "    }\n",
       "\n",
       "    .dataframe tbody tr th {\n",
       "        vertical-align: top;\n",
       "    }\n",
       "\n",
       "    .dataframe thead th {\n",
       "        text-align: right;\n",
       "    }\n",
       "</style>\n",
       "<table border=\"1\" class=\"dataframe\">\n",
       "  <thead>\n",
       "    <tr style=\"text-align: right;\">\n",
       "      <th></th>\n",
       "      <th>review</th>\n",
       "      <th>rating</th>\n",
       "    </tr>\n",
       "  </thead>\n",
       "  <tbody>\n",
       "    <tr>\n",
       "      <th>0</th>\n",
       "      <td>as always carhartt means quality</td>\n",
       "      <td>1</td>\n",
       "    </tr>\n",
       "    <tr>\n",
       "      <th>1</th>\n",
       "      <td>after ordering pair upon pair of tall black bo...</td>\n",
       "      <td>1</td>\n",
       "    </tr>\n",
       "    <tr>\n",
       "      <th>2</th>\n",
       "      <td>product is sturdy looks good and displays the ...</td>\n",
       "      <td>1</td>\n",
       "    </tr>\n",
       "    <tr>\n",
       "      <th>3</th>\n",
       "      <td>great coat very warm and well made</td>\n",
       "      <td>1</td>\n",
       "    </tr>\n",
       "    <tr>\n",
       "      <th>4</th>\n",
       "      <td>perfect for my disneybound</td>\n",
       "      <td>1</td>\n",
       "    </tr>\n",
       "    <tr>\n",
       "      <th>...</th>\n",
       "      <td>...</td>\n",
       "      <td>...</td>\n",
       "    </tr>\n",
       "    <tr>\n",
       "      <th>791995</th>\n",
       "      <td>too tight caused pain and the compression of b...</td>\n",
       "      <td>0</td>\n",
       "    </tr>\n",
       "    <tr>\n",
       "      <th>791996</th>\n",
       "      <td>its like plastic doll jewelry</td>\n",
       "      <td>0</td>\n",
       "    </tr>\n",
       "    <tr>\n",
       "      <th>791997</th>\n",
       "      <td>the fit was too small</td>\n",
       "      <td>0</td>\n",
       "    </tr>\n",
       "    <tr>\n",
       "      <th>791998</th>\n",
       "      <td>measurements were way off</td>\n",
       "      <td>0</td>\n",
       "    </tr>\n",
       "    <tr>\n",
       "      <th>791999</th>\n",
       "      <td>these were larger than shown i could not imagi...</td>\n",
       "      <td>0</td>\n",
       "    </tr>\n",
       "  </tbody>\n",
       "</table>\n",
       "<p>527758 rows × 2 columns</p>\n",
       "</div>"
      ],
      "text/plain": [
       "                                                   review  rating\n",
       "0                        as always carhartt means quality       1\n",
       "1       after ordering pair upon pair of tall black bo...       1\n",
       "2       product is sturdy looks good and displays the ...       1\n",
       "3                      great coat very warm and well made       1\n",
       "4                              perfect for my disneybound       1\n",
       "...                                                   ...     ...\n",
       "791995  too tight caused pain and the compression of b...       0\n",
       "791996                      its like plastic doll jewelry       0\n",
       "791997                              the fit was too small       0\n",
       "791998                          measurements were way off       0\n",
       "791999  these were larger than shown i could not imagi...       0\n",
       "\n",
       "[527758 rows x 2 columns]"
      ]
     },
     "execution_count": 25,
     "metadata": {},
     "output_type": "execute_result"
    }
   ],
   "source": [
    "df"
   ]
  },
  {
   "cell_type": "code",
   "execution_count": 26,
   "id": "therapeutic-leisure",
   "metadata": {},
   "outputs": [],
   "source": [
    "stop = stopwords.words('english')\n",
    "def remove_stopwords(df):\n",
    "    df['review']=df['review'].apply(lambda x: \" \".join(x for x in x.split() if x not in stop))"
   ]
  },
  {
   "cell_type": "code",
   "execution_count": 27,
   "id": "great-absence",
   "metadata": {},
   "outputs": [
    {
     "data": {
      "text/html": [
       "<div>\n",
       "<style scoped>\n",
       "    .dataframe tbody tr th:only-of-type {\n",
       "        vertical-align: middle;\n",
       "    }\n",
       "\n",
       "    .dataframe tbody tr th {\n",
       "        vertical-align: top;\n",
       "    }\n",
       "\n",
       "    .dataframe thead th {\n",
       "        text-align: right;\n",
       "    }\n",
       "</style>\n",
       "<table border=\"1\" class=\"dataframe\">\n",
       "  <thead>\n",
       "    <tr style=\"text-align: right;\">\n",
       "      <th></th>\n",
       "      <th>review</th>\n",
       "      <th>rating</th>\n",
       "    </tr>\n",
       "  </thead>\n",
       "  <tbody>\n",
       "    <tr>\n",
       "      <th>0</th>\n",
       "      <td>always carhartt means quality</td>\n",
       "      <td>1</td>\n",
       "    </tr>\n",
       "    <tr>\n",
       "      <th>1</th>\n",
       "      <td>ordering pair upon pair tall black boots zappo...</td>\n",
       "      <td>1</td>\n",
       "    </tr>\n",
       "    <tr>\n",
       "      <th>2</th>\n",
       "      <td>product sturdy looks good displays watches wel...</td>\n",
       "      <td>1</td>\n",
       "    </tr>\n",
       "    <tr>\n",
       "      <th>3</th>\n",
       "      <td>great coat warm well made</td>\n",
       "      <td>1</td>\n",
       "    </tr>\n",
       "    <tr>\n",
       "      <th>4</th>\n",
       "      <td>perfect disneybound</td>\n",
       "      <td>1</td>\n",
       "    </tr>\n",
       "    <tr>\n",
       "      <th>...</th>\n",
       "      <td>...</td>\n",
       "      <td>...</td>\n",
       "    </tr>\n",
       "    <tr>\n",
       "      <th>791995</th>\n",
       "      <td>tight caused pain compression boobs actually l...</td>\n",
       "      <td>0</td>\n",
       "    </tr>\n",
       "    <tr>\n",
       "      <th>791996</th>\n",
       "      <td>like plastic doll jewelry</td>\n",
       "      <td>0</td>\n",
       "    </tr>\n",
       "    <tr>\n",
       "      <th>791997</th>\n",
       "      <td>fit small</td>\n",
       "      <td>0</td>\n",
       "    </tr>\n",
       "    <tr>\n",
       "      <th>791998</th>\n",
       "      <td>measurements way</td>\n",
       "      <td>0</td>\n",
       "    </tr>\n",
       "    <tr>\n",
       "      <th>791999</th>\n",
       "      <td>larger shown could imagine nails none got pict...</td>\n",
       "      <td>0</td>\n",
       "    </tr>\n",
       "  </tbody>\n",
       "</table>\n",
       "<p>527758 rows × 2 columns</p>\n",
       "</div>"
      ],
      "text/plain": [
       "                                                   review  rating\n",
       "0                           always carhartt means quality       1\n",
       "1       ordering pair upon pair tall black boots zappo...       1\n",
       "2       product sturdy looks good displays watches wel...       1\n",
       "3                               great coat warm well made       1\n",
       "4                                     perfect disneybound       1\n",
       "...                                                   ...     ...\n",
       "791995  tight caused pain compression boobs actually l...       0\n",
       "791996                          like plastic doll jewelry       0\n",
       "791997                                          fit small       0\n",
       "791998                                   measurements way       0\n",
       "791999  larger shown could imagine nails none got pict...       0\n",
       "\n",
       "[527758 rows x 2 columns]"
      ]
     },
     "execution_count": 27,
     "metadata": {},
     "output_type": "execute_result"
    }
   ],
   "source": [
    "remove_stopwords(df)\n",
    "df"
   ]
  },
  {
   "cell_type": "code",
   "execution_count": 28,
   "id": "quiet-grammar",
   "metadata": {},
   "outputs": [],
   "source": [
    "def lemmatization(df):\n",
    "    df['review']=df['review'].apply(lambda x: \" \".join([Word(word).lemmatize() for word in x.split()]))    "
   ]
  },
  {
   "cell_type": "code",
   "execution_count": 29,
   "id": "corporate-lotus",
   "metadata": {},
   "outputs": [
    {
     "data": {
      "text/html": [
       "<div>\n",
       "<style scoped>\n",
       "    .dataframe tbody tr th:only-of-type {\n",
       "        vertical-align: middle;\n",
       "    }\n",
       "\n",
       "    .dataframe tbody tr th {\n",
       "        vertical-align: top;\n",
       "    }\n",
       "\n",
       "    .dataframe thead th {\n",
       "        text-align: right;\n",
       "    }\n",
       "</style>\n",
       "<table border=\"1\" class=\"dataframe\">\n",
       "  <thead>\n",
       "    <tr style=\"text-align: right;\">\n",
       "      <th></th>\n",
       "      <th>review</th>\n",
       "      <th>rating</th>\n",
       "    </tr>\n",
       "  </thead>\n",
       "  <tbody>\n",
       "    <tr>\n",
       "      <th>0</th>\n",
       "      <td>always carhartt mean quality</td>\n",
       "      <td>1</td>\n",
       "    </tr>\n",
       "    <tr>\n",
       "      <th>1</th>\n",
       "      <td>ordering pair upon pair tall black boot zappos...</td>\n",
       "      <td>1</td>\n",
       "    </tr>\n",
       "    <tr>\n",
       "      <th>2</th>\n",
       "      <td>product sturdy look good display watch well ea...</td>\n",
       "      <td>1</td>\n",
       "    </tr>\n",
       "    <tr>\n",
       "      <th>3</th>\n",
       "      <td>great coat warm well made</td>\n",
       "      <td>1</td>\n",
       "    </tr>\n",
       "    <tr>\n",
       "      <th>4</th>\n",
       "      <td>perfect disneybound</td>\n",
       "      <td>1</td>\n",
       "    </tr>\n",
       "    <tr>\n",
       "      <th>...</th>\n",
       "      <td>...</td>\n",
       "      <td>...</td>\n",
       "    </tr>\n",
       "    <tr>\n",
       "      <th>791995</th>\n",
       "      <td>tight caused pain compression boob actually le...</td>\n",
       "      <td>0</td>\n",
       "    </tr>\n",
       "    <tr>\n",
       "      <th>791996</th>\n",
       "      <td>like plastic doll jewelry</td>\n",
       "      <td>0</td>\n",
       "    </tr>\n",
       "    <tr>\n",
       "      <th>791997</th>\n",
       "      <td>fit small</td>\n",
       "      <td>0</td>\n",
       "    </tr>\n",
       "    <tr>\n",
       "      <th>791998</th>\n",
       "      <td>measurement way</td>\n",
       "      <td>0</td>\n",
       "    </tr>\n",
       "    <tr>\n",
       "      <th>791999</th>\n",
       "      <td>larger shown could imagine nail none got pictu...</td>\n",
       "      <td>0</td>\n",
       "    </tr>\n",
       "  </tbody>\n",
       "</table>\n",
       "<p>527758 rows × 2 columns</p>\n",
       "</div>"
      ],
      "text/plain": [
       "                                                   review  rating\n",
       "0                            always carhartt mean quality       1\n",
       "1       ordering pair upon pair tall black boot zappos...       1\n",
       "2       product sturdy look good display watch well ea...       1\n",
       "3                               great coat warm well made       1\n",
       "4                                     perfect disneybound       1\n",
       "...                                                   ...     ...\n",
       "791995  tight caused pain compression boob actually le...       0\n",
       "791996                          like plastic doll jewelry       0\n",
       "791997                                          fit small       0\n",
       "791998                                    measurement way       0\n",
       "791999  larger shown could imagine nail none got pictu...       0\n",
       "\n",
       "[527758 rows x 2 columns]"
      ]
     },
     "execution_count": 29,
     "metadata": {},
     "output_type": "execute_result"
    }
   ],
   "source": [
    "lemmatization(df)\n",
    "df"
   ]
  },
  {
   "cell_type": "code",
   "execution_count": 30,
   "id": "proper-universe",
   "metadata": {},
   "outputs": [],
   "source": [
    "def wordcloud(df,filename):\n",
    "    ratings=''.join(df['review'])    \n",
    "    wordcloud = WordCloud().generate(ratings)\n",
    "    plt.imshow(wordcloud)\n",
    "    plt.axis(\"off\")\n",
    "    plt.show()\n",
    "    wordcloud.to_file('{}.png'.format(filename))"
   ]
  },
  {
   "cell_type": "code",
   "execution_count": 31,
   "id": "standard-pearl",
   "metadata": {},
   "outputs": [
    {
     "data": {
      "image/png": "[encoded data removed]",
      "text/plain": [
       "<Figure size 432x288 with 1 Axes>"
      ]
     },
     "metadata": {
      "needs_background": "light"
     },
     "output_type": "display_data"
    }
   ],
   "source": [
    "plt.title(\"Popular review words!\", fontsize=20)\n",
    "wordcloud(df,\"wholeword.png\")"
   ]
  },
  {
   "cell_type": "code",
   "execution_count": 32,
   "id": "fatal-seminar",
   "metadata": {},
   "outputs": [
    {
     "data": {
      "image/png": "[encoded data removed]",
      "text/plain": [
       "<Figure size 432x288 with 1 Axes>"
      ]
     },
     "metadata": {
      "needs_background": "light"
     },
     "output_type": "display_data"
    }
   ],
   "source": [
    "df_pos=df[df['rating']==1]\n",
    "plt.title(\"Positive review words!\", fontsize=25)\n",
    "wordcloud(df_pos,\"posword.png\")"
   ]
  },
  {
   "cell_type": "code",
   "execution_count": 33,
   "id": "legendary-trade",
   "metadata": {},
   "outputs": [
    {
     "data": {
      "image/png": "[encoded data removed]",
      "text/plain": [
       "<Figure size 432x288 with 1 Axes>"
      ]
     },
     "metadata": {
      "needs_background": "light"
     },
     "output_type": "display_data"
    }
   ],
   "source": [
    "df_neg=df[df['rating']==0]\n",
    "plt.title(\"Negative review words!\", fontsize=25)\n",
    "wordcloud(df_neg,\"negword.png\")"
   ]
  },
  {
   "cell_type": "code",
   "execution_count": 34,
   "id": "positive-semiconductor",
   "metadata": {},
   "outputs": [],
   "source": [
    "x_train, x_test, y_train, y_test = train_test_split(df[\"review\"], df[\"rating\"], test_size = 0.1, random_state = 23)"
   ]
  },
  {
   "cell_type": "code",
   "execution_count": 35,
   "id": "generic-sleep",
   "metadata": {},
   "outputs": [
    {
     "name": "stdout",
     "output_type": "stream",
     "text": [
      "X train shape is (474982,)\n",
      "Y train shape is (474982,)\n",
      "X test  shape is (52776,)\n",
      "Y test  shape is (52776,)\n"
     ]
    }
   ],
   "source": [
    "print('X train shape is {}'.format(x_train.shape))\n",
    "print('Y train shape is {}'.format(y_train.shape))\n",
    "print('X test  shape is {}'.format(x_test.shape))\n",
    "print('Y test  shape is {}'.format(y_test.shape))"
   ]
  },
  {
   "cell_type": "code",
   "execution_count": 36,
   "id": "agreed-vampire",
   "metadata": {},
   "outputs": [
    {
     "data": {
      "text/plain": [
       "179675    returning also got dress sleeve great reason l...\n",
       "333745    normally complain buy amazon tell bracelet tot...\n",
       "138888    opened bag came could see gray side looser whi...\n",
       "177002                 fit smaller picture 5 8 almost short\n",
       "642493    little large piping around bottom coming even ...\n",
       "                                ...                        \n",
       "334460                                     one word blister\n",
       "618138    see look feel like curtain picture look sheer ...\n",
       "122328                                                 nice\n",
       "477516                         say 2xx anything large maybe\n",
       "235027                               expected leather stiff\n",
       "Name: review, Length: 474982, dtype: object"
      ]
     },
     "execution_count": 36,
     "metadata": {},
     "output_type": "execute_result"
    }
   ],
   "source": [
    "x_train"
   ]
  },
  {
   "cell_type": "code",
   "execution_count": 37,
   "id": "faced-olive",
   "metadata": {},
   "outputs": [
    {
     "data": {
      "text/plain": [
       "742923    dissatisfied one size fit one size fit new bor...\n",
       "282371    way thin get wrinkled wash dry prepared use ir...\n",
       "310338           best quality like looked tarnished arrived\n",
       "691003    wanted love bag size right quality material co...\n",
       "50814     amazed find leather purse price paid love bag ...\n",
       "                                ...                        \n",
       "427918    shoe true size comfortable superior quality wi...\n",
       "387328    24 inch pearl necklace beautiful pearl perfect...\n",
       "242873    super cute shoe great little walker bought ama...\n",
       "210054    wear several type sweatpants medium size fit w...\n",
       "452700                                                  bad\n",
       "Name: review, Length: 52776, dtype: object"
      ]
     },
     "execution_count": 37,
     "metadata": {},
     "output_type": "execute_result"
    }
   ],
   "source": [
    "x_test"
   ]
  },
  {
   "cell_type": "code",
   "execution_count": 38,
   "id": "personalized-stamp",
   "metadata": {},
   "outputs": [
    {
     "data": {
      "text/plain": [
       "179675    1\n",
       "333745    0\n",
       "138888    0\n",
       "177002    1\n",
       "642493    0\n",
       "         ..\n",
       "334460    0\n",
       "618138    0\n",
       "122328    1\n",
       "477516    0\n",
       "235027    0\n",
       "Name: rating, Length: 474982, dtype: int32"
      ]
     },
     "execution_count": 38,
     "metadata": {},
     "output_type": "execute_result"
    }
   ],
   "source": [
    "y_train"
   ]
  },
  {
   "cell_type": "code",
   "execution_count": 39,
   "id": "immune-service",
   "metadata": {},
   "outputs": [
    {
     "data": {
      "text/plain": [
       "742923    0\n",
       "282371    0\n",
       "310338    0\n",
       "691003    0\n",
       "50814     1\n",
       "         ..\n",
       "427918    0\n",
       "387328    1\n",
       "242873    1\n",
       "210054    0\n",
       "452700    0\n",
       "Name: rating, Length: 52776, dtype: int32"
      ]
     },
     "execution_count": 39,
     "metadata": {},
     "output_type": "execute_result"
    }
   ],
   "source": [
    "y_test"
   ]
  },
  {
   "cell_type": "code",
   "execution_count": 40,
   "id": "tracked-connection",
   "metadata": {},
   "outputs": [],
   "source": [
    "countvectors=CountVectorizer()\n",
    "x_train_counts=countvectors.fit_transform(x_train)"
   ]
  },
  {
   "cell_type": "code",
   "execution_count": 41,
   "id": "religious-milwaukee",
   "metadata": {},
   "outputs": [
    {
     "data": {
      "text/plain": [
       "(474982, 64450)"
      ]
     },
     "execution_count": 41,
     "metadata": {},
     "output_type": "execute_result"
    }
   ],
   "source": [
    "x_train_counts.shape"
   ]
  },
  {
   "cell_type": "code",
   "execution_count": 42,
   "id": "emotional-twins",
   "metadata": {},
   "outputs": [],
   "source": [
    "transformers=TfidfTransformer(norm='l2',sublinear_tf=True)\n",
    "x_train_tfids=transformers.fit_transform(x_train_counts)"
   ]
  },
  {
   "cell_type": "code",
   "execution_count": 43,
   "id": "mounted-arrest",
   "metadata": {},
   "outputs": [
    {
     "data": {
      "text/plain": [
       "(474982, 64450)"
      ]
     },
     "execution_count": 43,
     "metadata": {},
     "output_type": "execute_result"
    }
   ],
   "source": [
    "x_train_tfids.shape"
   ]
  },
  {
   "cell_type": "code",
   "execution_count": 44,
   "id": "random-observation",
   "metadata": {},
   "outputs": [],
   "source": [
    "x_test_counts=countvectors.transform(x_test)\n",
    "x_test_tfids=transformers.transform(x_test_counts)"
   ]
  },
  {
   "cell_type": "code",
   "execution_count": 45,
   "id": "furnished-fitting",
   "metadata": {},
   "outputs": [
    {
     "data": {
      "text/plain": [
       "(52776, 64450)"
      ]
     },
     "execution_count": 45,
     "metadata": {},
     "output_type": "execute_result"
    }
   ],
   "source": [
    "x_test_tfids.shape"
   ]
  },
  {
   "cell_type": "code",
   "execution_count": 46,
   "id": "duplicate-armor",
   "metadata": {},
   "outputs": [],
   "source": [
    "randomforest_model = RandomForestClassifier(n_estimators=100)\n",
    "randomforest_model.fit(x_train_tfids,y_train)"
   ]
  },
  {
   "cell_type": "code",
   "execution_count": 47,
   "id": "acceptable-tooth",
   "metadata": {},
   "outputs": [],
   "source": [
    "predictions = randomforest_model.predict(x_test_tfids)\n",
    "print(predictions)"
   ]
  },
  {
   "cell_type": "code",
   "execution_count": 48,
   "id": "scenic-pontiac",
   "metadata": {},
   "outputs": [],
   "source": [
    "accuracy_score(y_test,predictions)"
   ]
  },
  {
   "cell_type": "code",
   "execution_count": 49,
   "id": "synthetic-workshop",
   "metadata": {},
   "outputs": [
    {
     "data": {
      "text/plain": [
       "LogisticRegression(max_iter=10000, random_state=23, solver='liblinear')"
      ]
     },
     "execution_count": 49,
     "metadata": {},
     "output_type": "execute_result"
    }
   ],
   "source": [
    "lr_model = LogisticRegression(solver = 'liblinear', random_state = 23, max_iter=10000)\n",
    "lr_model.fit(x_train_tfids,y_train)"
   ]
  },
  {
   "cell_type": "code",
   "execution_count": 50,
   "id": "studied-event",
   "metadata": {},
   "outputs": [],
   "source": [
    "lr_predictions=lr_model.predict(x_test_tfids)"
   ]
  },
  {
   "cell_type": "code",
   "execution_count": 51,
   "id": "related-answer",
   "metadata": {},
   "outputs": [
    {
     "data": {
      "text/plain": [
       "0.791682245735582"
      ]
     },
     "execution_count": 51,
     "metadata": {},
     "output_type": "execute_result"
    }
   ],
   "source": [
    "roc_auc_score(y_test,lr_predictions)"
   ]
  },
  {
   "cell_type": "code",
   "execution_count": 52,
   "id": "binding-worker",
   "metadata": {},
   "outputs": [],
   "source": [
    "scaling = MaxAbsScaler().fit(x_train_tfids)\n",
    "x_train_scaled=scaling.transform(x_train_tfids)\n",
    "x_test_scaled=scaling.transform(x_test_tfids)"
   ]
  },
  {
   "cell_type": "code",
   "execution_count": 53,
   "id": "australian-lebanon",
   "metadata": {},
   "outputs": [],
   "source": [
    "svm_model=svm.SVC(gamma='auto')\n",
    "svm_model.fit(x_train_scaled,y_train)"
   ]
  },
  {
   "cell_type": "code",
   "execution_count": 54,
   "id": "environmental-burden",
   "metadata": {},
   "outputs": [],
   "source": [
    "svm_predictions=svm_model.predict(x_test_scaled)"
   ]
  },
  {
   "cell_type": "code",
   "execution_count": 55,
   "id": "homeless-correction",
   "metadata": {},
   "outputs": [],
   "source": [
    "accuracy_score(y_test,svm_predictions)"
   ]
  },
  {
   "cell_type": "code",
   "execution_count": 56,
   "id": "private-tuning",
   "metadata": {},
   "outputs": [
    {
     "data": {
      "text/plain": [
       "MultinomialNB()"
      ]
     },
     "execution_count": 56,
     "metadata": {},
     "output_type": "execute_result"
    }
   ],
   "source": [
    "nb_model=MultinomialNB()\n",
    "nb_model.fit(x_train_tfids,y_train)"
   ]
  },
  {
   "cell_type": "code",
   "execution_count": 57,
   "id": "opponent-subscriber",
   "metadata": {},
   "outputs": [],
   "source": [
    "nb_predictions=nb_model.predict(x_test_tfids)"
   ]
  },
  {
   "cell_type": "code",
   "execution_count": 58,
   "id": "surprised-certification",
   "metadata": {},
   "outputs": [
    {
     "data": {
      "text/plain": [
       "0.7717523116568137"
      ]
     },
     "execution_count": 58,
     "metadata": {},
     "output_type": "execute_result"
    }
   ],
   "source": [
    "accuracy_score(y_test,nb_predictions)"
   ]
  },
  {
   "cell_type": "code",
   "execution_count": 59,
   "id": "renewable-degree",
   "metadata": {},
   "outputs": [
    {
     "data": {
      "text/plain": [
       "Pipeline(steps=[('vect', CountVectorizer()), ('tfidf', TfidfTransformer()),\n",
       "                ('clf',\n",
       "                 LogisticRegression(max_iter=10000, random_state=23,\n",
       "                                    solver='liblinear'))])"
      ]
     },
     "execution_count": 59,
     "metadata": {},
     "output_type": "execute_result"
    }
   ],
   "source": [
    "classi = Pipeline([\n",
    "    ('vect', CountVectorizer()),\n",
    "    ('tfidf', TfidfTransformer()),\n",
    "    ('clf', LogisticRegression(solver = 'liblinear', random_state = 23, max_iter=10000)),\n",
    "])\n",
    "classi.fit(x_train,y_train)"
   ]
  },
  {
   "cell_type": "code",
   "execution_count": 60,
   "id": "reasonable-dakota",
   "metadata": {},
   "outputs": [
    {
     "data": {
      "text/plain": [
       "array([1])"
      ]
     },
     "execution_count": 60,
     "metadata": {},
     "output_type": "execute_result"
    }
   ],
   "source": [
    "classi.predict(['this is so bad that i love it'])"
   ]
  },
  {
   "cell_type": "code",
   "execution_count": 61,
   "id": "closed-secretary",
   "metadata": {},
   "outputs": [],
   "source": [
    "with open('model','wb') as file:\n",
    "    pickle.dump(classi,file)"
   ]
  }
 ],
 "metadata": {
  "kernelspec": {
   "display_name": "Python 3",
   "language": "python",
   "name": "python3"
  },
  "language_info": {
   "codemirror_mode": {
    "name": "ipython",
    "version": 3
   },
   "file_extension": ".py",
   "mimetype": "text/x-python",
   "name": "python",
   "nbconvert_exporter": "python",
   "pygments_lexer": "ipython3",
   "version": "3.7.7"
  }
 },
 "nbformat": 4,
 "nbformat_minor": 5
}
